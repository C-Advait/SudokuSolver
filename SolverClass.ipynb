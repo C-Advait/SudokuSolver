{
 "cells": [
  {
   "cell_type": "code",
   "execution_count": 4,
   "metadata": {},
   "outputs": [],
   "source": [
    "import numpy as np\n"
   ]
  },
  {
   "cell_type": "code",
   "execution_count": 5,
   "metadata": {},
   "outputs": [],
   "source": [
    "class SodokuSolver:\n",
    "    '''\n",
    "    inputType (Values): Nested list [ [], [], [], [], ], where the length of the nested array = length of\n",
    "    outer array. This creates a square matrix\n",
    "\n",
    "    rtype: Nested list(NxN) of the solved grid. Returns a list of the rows from top to bottom of the grid\n",
    "\n",
    "    '''\n",
    "    \n",
    "    def __init__(self, values):\n",
    "        self.grid = np.array(values)\n",
    "    \n",
    "#     def __str__(self): doesnt work as desired\n",
    "#         return self.grid \n",
    "    \n",
    "    def isPossible(self, x, y, n):\n",
    "        '''\n",
    "        In Matrix notation, insert n in position (Y x X)\n",
    "        x: column number, start from 0\n",
    "        y: row number, start from 0\n",
    "        n: value to insert, 1-9\n",
    "        '''\n",
    "        for i in range(9): #Check columns 0-8 for value n in position x\n",
    "            if (self.grid[i][x] == n):\n",
    "                return False\n",
    "\n",
    "        for i in range(9): #check row y for value n in positions 0-8\n",
    "            if (self.grid[y][i] == n):\n",
    "                return False\n",
    "            \n",
    "        x_loc_mini_grid = x//3\n",
    "        y_loc_mini_grid = y//3\n",
    "        \n",
    "        for i in range(y_loc_mini_grid*3, y_loc_mini_grid*3 + 2):\n",
    "            for j in range(x_loc_mini_grid*3, x_loc_mini_grid*3 + 2):\n",
    "                if (self.grid[i][j] == n):\n",
    "                    return False\n",
    "        return True\n",
    "    \n",
    "    def solve(self):\n",
    "        try:\n",
    "            for i in range(9):\n",
    "                for j in range(9):\n",
    "                    if self.grid[i][j] == 0:\n",
    "                        for n in range(1,10):\n",
    "                            if self.isPossible(i,j,n):\n",
    "                                self.grid[i][j] = n\n",
    "                                self.solve()\n",
    "                                self.grid[i][j] = 0\n",
    "                        return\n",
    "            print(self.grid)\n",
    "            input('More?')\n",
    "        except KeyboardInterrupt:\n",
    "            print(self.grid)\n",
    "        \n",
    "        "
   ]
  },
  {
   "cell_type": "code",
   "execution_count": 6,
   "metadata": {},
   "outputs": [
    {
     "name": "stdout",
     "output_type": "stream",
     "text": [
      "[[0 0 0 6 0 0 4 0 7]\n",
      " [0 9 6 0 0 7 0 8 5]\n",
      " [0 2 5 9 4 0 0 0 0]\n",
      " [9 4 1 0 2 0 0 0 0]\n",
      " [0 8 0 4 0 5 0 1 0]\n",
      " [0 0 0 0 3 0 8 2 4]\n",
      " [0 0 0 0 8 4 1 7 0]\n",
      " [1 5 0 7 0 0 9 4 0]\n",
      " [8 0 4 0 0 1 0 0 0]]\n"
     ]
    }
   ],
   "source": [
    "first = SodokuSolver([[0,0,0,6,0,0,4,0,7], \n",
    "                      [0,9,6,0,0,7,0,8,5], \n",
    "                      [0,2,5,9,4,0,0,0,0],\n",
    "                      [9,4,1,0,2,0,0,0,0],\n",
    "                      [0,8,0,4,0,5,0,1,0],\n",
    "                      [0,0,0,0,3,0,8,2,4],\n",
    "                      [0,0,0,0,8,4,1,7,0],\n",
    "                      [1,5,0,7,0,0,9,4,0],\n",
    "                      [8,0,4,0,0,1,0,0,0]])\n",
    "print(first.grid)\n"
   ]
  },
  {
   "cell_type": "code",
   "execution_count": null,
   "metadata": {},
   "outputs": [],
   "source": [
    "first.solve()"
   ]
  },
  {
   "cell_type": "code",
   "execution_count": null,
   "metadata": {},
   "outputs": [],
   "source": []
  }
 ],
 "metadata": {
  "kernelspec": {
   "display_name": "Python 3",
   "language": "python",
   "name": "python3"
  },
  "language_info": {
   "codemirror_mode": {
    "name": "ipython",
    "version": 3
   },
   "file_extension": ".py",
   "mimetype": "text/x-python",
   "name": "python",
   "nbconvert_exporter": "python",
   "pygments_lexer": "ipython3",
   "version": "3.8.2"
  }
 },
 "nbformat": 4,
 "nbformat_minor": 4
}

{
  "nbformat": 4,
  "nbformat_minor": 0,
  "metadata": {
    "kernelspec": {
      "display_name": "Python 3",
      "language": "python",
      "name": "python3"
    },
    "language_info": {
      "codemirror_mode": {
        "name": "ipython",
        "version": 3
      },
      "file_extension": ".py",
      "mimetype": "text/x-python",
      "name": "python",
      "nbconvert_exporter": "python",
      "pygments_lexer": "ipython3",
      "version": "3.8.2"
    },
    "colab": {
      "name": "SolverClass.ipynb",
      "provenance": []
    }
  },
  "cells": [
    {
      "cell_type": "code",
      "metadata": {
        "id": "w3Kwy6nGQGS5",
        "colab_type": "code",
        "colab": {}
      },
      "source": [
        "import numpy as np\n"
      ],
      "execution_count": 0,
      "outputs": []
    },
    {
      "cell_type": "code",
      "metadata": {
        "id": "ygNSGE4MQGS-",
        "colab_type": "code",
        "colab": {}
      },
      "source": [
        "class SudokuSolver:\n",
        "    '''\n",
        "    inputType (Values): Nested list [ [], [], [], [], ], where the length of the nested array = length of\n",
        "    outer array. This creates a square matrix\n",
        "\n",
        "    rtype: Nested list(NxN) of the solved grid. Returns a list of the rows from top to bottom of the grid\n",
        "\n",
        "    '''\n",
        "    \n",
        "    def __init__(self, values):\n",
        "        self.grid = np.array(values)\n",
        "    \n",
        "#     def __str__(self): doesnt work as desired\n",
        "#         return self.grid \n",
        "    \n",
        "    def isPossible(self, y, x, n):\n",
        "        '''\n",
        "        In Matrix notation, insert n in position (Y x X)\n",
        "        x: column number, start from 0\n",
        "        y: row number, start from 0\n",
        "        n: value to insert, 1-9\n",
        "        '''\n",
        "        for i in range(9): #Check columns 0-8 for value n in position x\n",
        "            if (self.grid[i][x] == n):\n",
        "                return False\n",
        "\n",
        "        for i in range(9): #check row y for value n in positions 0-8\n",
        "            if (self.grid[y][i] == n):\n",
        "                return False\n",
        "            \n",
        "        x_loc_mini_grid = x//3\n",
        "        y_loc_mini_grid = y//3\n",
        "        \n",
        "        for i in range(y_loc_mini_grid*3, y_loc_mini_grid*3 + 3):\n",
        "            for j in range(x_loc_mini_grid*3, x_loc_mini_grid*3 + 3):\n",
        "                if (self.grid[i][j] == n):\n",
        "                    return False\n",
        "        return True\n",
        "    \n",
        "    def solve(self):\n",
        "\n",
        "          for x in range(9):\n",
        "              for y in range(9):\n",
        "                  if self.grid[y][x] == 0:\n",
        "                      for n in range(1,10):\n",
        "                          if self.isPossible(y,x,n):\n",
        "                              self.grid[y][x] = n\n",
        "                              self.solve()\n",
        "                              self.grid[y][x] = 0\n",
        "                      return\n",
        "          print(self.grid)\n",
        "          print()\n",
        "          input('More?')\n",
        "        "
      ],
      "execution_count": 0,
      "outputs": []
    },
    {
      "cell_type": "code",
      "metadata": {
        "id": "Mk47ciNLQGTA",
        "colab_type": "code",
        "colab": {
          "base_uri": "https://localhost:8080/",
          "height": 170
        },
        "outputId": "c8aca590-1cc7-416f-9de1-3839eeed7a4d"
      },
      "source": [
        "first = SudokuSolver([[0,0,0,6,0,0,4,0,7], \n",
        "                      [0,9,6,0,0,7,0,8,5], \n",
        "                      [0,2,5,9,4,0,0,0,0],\n",
        "                      [9,4,1,0,2,0,0,0,0],\n",
        "                      [0,8,0,4,0,5,0,1,0],\n",
        "                      [0,0,0,0,3,0,8,2,4],\n",
        "                      [0,0,0,0,8,4,1,7,0],\n",
        "                      [1,5,0,7,0,0,9,4,0],\n",
        "                      [8,0,4,0,0,1,0,0,0]])\n",
        "print(first.grid)\n"
      ],
      "execution_count": 39,
      "outputs": [
        {
          "output_type": "stream",
          "text": [
            "[[0 0 0 6 0 0 4 0 7]\n",
            " [0 9 6 0 0 7 0 8 5]\n",
            " [0 2 5 9 4 0 0 0 0]\n",
            " [9 4 1 0 2 0 0 0 0]\n",
            " [0 8 0 4 0 5 0 1 0]\n",
            " [0 0 0 0 3 0 8 2 4]\n",
            " [0 0 0 0 8 4 1 7 0]\n",
            " [1 5 0 7 0 0 9 4 0]\n",
            " [8 0 4 0 0 1 0 0 0]]\n"
          ],
          "name": "stdout"
        }
      ]
    },
    {
      "cell_type": "code",
      "metadata": {
        "id": "WSUUDTSXQGTE",
        "colab_type": "code",
        "colab": {
          "base_uri": "https://localhost:8080/",
          "height": 204
        },
        "outputId": "d494021c-d2fc-4c15-810c-9d43734cd429"
      },
      "source": [
        "first.solve()"
      ],
      "execution_count": 40,
      "outputs": [
        {
          "output_type": "stream",
          "text": [
            "[[3 1 8 6 5 2 4 9 7]\n",
            " [4 9 6 3 1 7 2 8 5]\n",
            " [7 2 5 9 4 8 3 6 1]\n",
            " [9 4 1 8 2 6 7 5 3]\n",
            " [2 8 3 4 7 5 6 1 9]\n",
            " [5 6 7 1 3 9 8 2 4]\n",
            " [6 3 9 5 8 4 1 7 2]\n",
            " [1 5 2 7 6 3 9 4 8]\n",
            " [8 7 4 2 9 1 5 3 6]]\n",
            "\n",
            "More?\n"
          ],
          "name": "stdout"
        }
      ]
    },
    {
      "cell_type": "code",
      "metadata": {
        "id": "XTxbZGMJQGTH",
        "colab_type": "code",
        "colab": {
          "base_uri": "https://localhost:8080/",
          "height": 204
        },
        "outputId": "f3d47cab-3c11-48a1-febc-72fe3443d579"
      },
      "source": [
        "second = SudokuSolver([[0,9,0,7,0,0,0,4,0],\n",
        "                       [7,0,0,4,0,8,0,0,9],\n",
        "                       [0,1,0,6,0,0,0,0,0],\n",
        "                       [0,4,0,0,0,0,5,0,8],\n",
        "                       [1,0,0,0,0,0,0,0,2],\n",
        "                       [8,0,6,0,0,0,0,9,0],\n",
        "                       [0,0,0,0,0,4,0,5,0],\n",
        "                       [9,0,0,3,0,2,0,0,1],\n",
        "                       [0,3,0,0,0,1,0,7,0]])\n",
        "\n",
        "second.solve()"
      ],
      "execution_count": 37,
      "outputs": [
        {
          "output_type": "stream",
          "text": [
            "[[2 9 8 7 1 3 6 4 5]\n",
            " [7 6 3 4 5 8 1 2 9]\n",
            " [5 1 4 6 2 9 8 3 7]\n",
            " [3 4 7 2 9 6 5 1 8]\n",
            " [1 5 9 8 4 7 3 6 2]\n",
            " [8 2 6 1 3 5 7 9 4]\n",
            " [6 8 1 9 7 4 2 5 3]\n",
            " [9 7 5 3 6 2 4 8 1]\n",
            " [4 3 2 5 8 1 9 7 6]]\n",
            "\n",
            "More?\n"
          ],
          "name": "stdout"
        }
      ]
    },
    {
      "cell_type": "code",
      "metadata": {
        "id": "q7cy5r583CKd",
        "colab_type": "code",
        "colab": {
          "base_uri": "https://localhost:8080/",
          "height": 204
        },
        "outputId": "504d7d1a-539a-4ec0-d1df-9787582dcbdd"
      },
      "source": [
        "second = SudokuSolver([[0,9,0,7,0,0,0,4,0],\n",
        "                       [7,0,0,4,0,8,0,0,9],\n",
        "                       [0,1,0,6,0,0,0,0,0],\n",
        "                       [0,4,0,0,0,0,5,0,8],\n",
        "                       [1,0,0,0,0,0,0,0,2],\n",
        "                       [8,0,6,0,0,0,0,9,0],\n",
        "                       [0,0,0,0,0,4,0,5,0],\n",
        "                       [9,0,0,3,0,2,0,0,1],\n",
        "                       [0,3,0,0,0,1,0,7,0]])\n",
        "\n",
        "second.solve()"
      ],
      "execution_count": 41,
      "outputs": [
        {
          "output_type": "stream",
          "text": [
            "[[2 9 8 7 1 3 6 4 5]\n",
            " [7 6 3 4 5 8 1 2 9]\n",
            " [5 1 4 6 2 9 8 3 7]\n",
            " [3 4 7 2 9 6 5 1 8]\n",
            " [1 5 9 8 4 7 3 6 2]\n",
            " [8 2 6 1 3 5 7 9 4]\n",
            " [6 8 1 9 7 4 2 5 3]\n",
            " [9 7 5 3 6 2 4 8 1]\n",
            " [4 3 2 5 8 1 9 7 6]]\n",
            "\n",
            "More?\n"
          ],
          "name": "stdout"
        }
      ]
    },
    {
      "cell_type": "code",
      "metadata": {
        "id": "mP3GSJsC6Po4",
        "colab_type": "code",
        "colab": {}
      },
      "source": [
        ""
      ],
      "execution_count": 0,
      "outputs": []
    },
    {
      "cell_type": "code",
      "metadata": {
        "id": "RaAGQs316i7e",
        "colab_type": "code",
        "colab": {}
      },
      "source": [
        ""
      ],
      "execution_count": 0,
      "outputs": []
    }
  ]
}